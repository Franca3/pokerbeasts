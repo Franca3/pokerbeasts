{
 "cells": [
  {
   "cell_type": "code",
   "execution_count": 3,
   "metadata": {},
   "outputs": [],
   "source": [
    "import sys\n",
    "sys.path.append(r'C:\\Program Files (x86)\\Python36-32\\Lib\\site-packages')\n",
    "import pypokerengine"
   ]
  },
  {
   "cell_type": "code",
   "execution_count": 32,
   "metadata": {},
   "outputs": [],
   "source": [
    "from pypokerengine.players import BasePokerPlayer\n",
    "\n",
    "class CallPlayer(BasePokerPlayer):  # Do not forget to make parent class as \"BasePokerPlayer\"\n",
    "\n",
    "    #  we define the logic to make an action through this method. (so this method would be the core of your AI)\n",
    "    def declare_action(self, valid_actions, hole_card, round_state):\n",
    "        # valid_actions format => [raise_action_info, call_action_info, fold_action_info]\n",
    "        call_action_info = valid_actions[1]\n",
    "        action, amount = call_action_info[\"action\"], call_action_info[\"amount\"]\n",
    "        return action, amount   # action returned here is sent to the poker engine\n",
    "\n",
    "    def receive_game_start_message(self, game_info):\n",
    "        pass\n",
    "\n",
    "    def receive_round_start_message(self, round_count, hole_card, seats):\n",
    "        pass\n",
    "\n",
    "    def receive_street_start_message(self, street, round_state):\n",
    "        pass\n",
    "\n",
    "    def receive_game_update_message(self, action, round_state):\n",
    "        pass\n",
    "\n",
    "    def receive_round_result_message(self, winners, hand_info, round_state):\n",
    "        pass\n"
   ]
  },
  {
   "cell_type": "code",
   "execution_count": 69,
   "metadata": {},
   "outputs": [],
   "source": [
    "class RaisePlayer(BasePokerPlayer):  # Do not forget to make parent class as \"BasePokerPlayer\"\n",
    "\n",
    "    #  we define the logic to make an action through this method. (so this method would be the core of your AI)\n",
    "    def declare_action(self, valid_actions, hole_card, round_state):\n",
    "        # valid_actions format => [raise_action_info, call_action_info, fold_action_info]\n",
    "        call_action_info = valid_actions[2]\n",
    "        \n",
    "        action, amount = call_action_info[\"action\"], call_action_info[\"amount\"][\"min\"]\n",
    "        \"\"\"\n",
    "        als je bij valid_actions kiest voor [2], dan ga je voor raise. Dan kan je nog kiezen uit 'min' en 'max'.\n",
    "        'min' is een raise met de laatste raise/big blind, 'max' is all in.\n",
    "        Je kan ook zelf een ammount kiezen, maar als dat te groot is doe je een fold (denk ik)\n",
    "        \"\"\"\n",
    "        return action, amount   # action returned here is sent to the poker engine\n",
    "\n",
    "    def receive_game_start_message(self, game_info):\n",
    "        pass\n",
    "\n",
    "    def receive_round_start_message(self, round_count, hole_card, seats):\n",
    "        pass\n",
    "\n",
    "    def receive_street_start_message(self, street, round_state):\n",
    "        pass\n",
    "\n",
    "    def receive_game_update_message(self, action, round_state):\n",
    "        pass\n",
    "\n",
    "    def receive_round_result_message(self, winners, hand_info, round_state):\n",
    "        pass\n"
   ]
  },
  {
   "cell_type": "markdown",
   "metadata": {},
   "source": [
    "Om er voor te zorgen dat je limit poker speelt (altijd met een vast bedrag raise doet), moet je in PyPokerEngine/pypokerengine/engine/action_checker.py de methode __min_raise_amount__ aanpassen zodat je ronde afhankelijk een bedrag hebt."
   ]
  },
  {
   "cell_type": "code",
   "execution_count": 5,
   "metadata": {},
   "outputs": [],
   "source": [
    "from pypokerengine.api.game import setup_config, start_poker"
   ]
  },
  {
   "cell_type": "code",
   "execution_count": 70,
   "metadata": {},
   "outputs": [],
   "source": [
    "config = setup_config(max_round=5, initial_stack=100, small_blind_amount=1)\n",
    "config.register_player(name = \"p1\", algorithm=CallPlayer())\n",
    "config.register_player(name = 'p2', algorithm = RaisePlayer())"
   ]
  },
  {
   "cell_type": "code",
   "execution_count": 71,
   "metadata": {},
   "outputs": [
    {
     "name": "stdout",
     "output_type": "stream",
     "text": [
      "Started the round 1\n",
      "Street \"preflop\" started. (community card = [])\n",
      "\"p2\" declared \"raise:3\"\n",
      "\"p1\" declared \"call:3\"\n",
      "Street \"flop\" started. (community card = ['D6', 'C7', 'C8'])\n",
      "\"p2\" declared \"raise:2\"\n",
      "\"p1\" declared \"call:2\"\n",
      "Street \"turn\" started. (community card = ['D6', 'C7', 'C8', 'C2'])\n",
      "\"p2\" declared \"raise:2\"\n",
      "\"p1\" declared \"call:2\"\n",
      "Street \"river\" started. (community card = ['D6', 'C7', 'C8', 'C2', 'H7'])\n",
      "\"p2\" declared \"raise:2\"\n",
      "\"p1\" declared \"call:2\"\n",
      "\"['p2']\" won the round 1 (stack = {'p1': 91, 'p2': 109})\n",
      "Started the round 2\n",
      "Street \"preflop\" started. (community card = [])\n",
      "\"p1\" declared \"call:2\"\n",
      "\"p2\" declared \"raise:3\"\n",
      "\"p1\" declared \"call:3\"\n",
      "Street \"flop\" started. (community card = ['C3', 'H2', 'SA'])\n",
      "\"p1\" declared \"call:0\"\n",
      "\"p2\" declared \"raise:2\"\n",
      "\"p1\" declared \"call:2\"\n",
      "Street \"turn\" started. (community card = ['C3', 'H2', 'SA', 'HA'])\n",
      "\"p1\" declared \"call:0\"\n",
      "\"p2\" declared \"raise:2\"\n",
      "\"p1\" declared \"call:2\"\n",
      "Street \"river\" started. (community card = ['C3', 'H2', 'SA', 'HA', 'DK'])\n",
      "\"p1\" declared \"call:0\"\n",
      "\"p2\" declared \"raise:2\"\n",
      "\"p1\" declared \"call:2\"\n",
      "\"['p2']\" won the round 2 (stack = {'p1': 82, 'p2': 118})\n",
      "Started the round 3\n",
      "Street \"preflop\" started. (community card = [])\n",
      "\"p2\" declared \"raise:3\"\n",
      "\"p1\" declared \"call:3\"\n",
      "Street \"flop\" started. (community card = ['H9', 'DA', 'CA'])\n",
      "\"p2\" declared \"raise:2\"\n",
      "\"p1\" declared \"call:2\"\n",
      "Street \"turn\" started. (community card = ['H9', 'DA', 'CA', 'HK'])\n",
      "\"p2\" declared \"raise:2\"\n",
      "\"p1\" declared \"call:2\"\n",
      "Street \"river\" started. (community card = ['H9', 'DA', 'CA', 'HK', 'S9'])\n",
      "\"p2\" declared \"raise:2\"\n",
      "\"p1\" declared \"call:2\"\n",
      "\"['p2']\" won the round 3 (stack = {'p1': 73, 'p2': 127})\n",
      "Started the round 4\n",
      "Street \"preflop\" started. (community card = [])\n",
      "\"p1\" declared \"call:2\"\n",
      "\"p2\" declared \"raise:3\"\n",
      "\"p1\" declared \"call:3\"\n",
      "Street \"flop\" started. (community card = ['HQ', 'DJ', 'S3'])\n",
      "\"p1\" declared \"call:0\"\n",
      "\"p2\" declared \"raise:2\"\n",
      "\"p1\" declared \"call:2\"\n",
      "Street \"turn\" started. (community card = ['HQ', 'DJ', 'S3', 'S4'])\n",
      "\"p1\" declared \"call:0\"\n",
      "\"p2\" declared \"raise:2\"\n",
      "\"p1\" declared \"call:2\"\n",
      "Street \"river\" started. (community card = ['HQ', 'DJ', 'S3', 'S4', 'H3'])\n",
      "\"p1\" declared \"call:0\"\n",
      "\"p2\" declared \"raise:2\"\n",
      "\"p1\" declared \"call:2\"\n",
      "\"['p1']\" won the round 4 (stack = {'p1': 82, 'p2': 118})\n",
      "Started the round 5\n",
      "Street \"preflop\" started. (community card = [])\n",
      "\"p2\" declared \"raise:3\"\n",
      "\"p1\" declared \"call:3\"\n",
      "Street \"flop\" started. (community card = ['H6', 'C6', 'DK'])\n",
      "\"p2\" declared \"raise:2\"\n",
      "\"p1\" declared \"call:2\"\n",
      "Street \"turn\" started. (community card = ['H6', 'C6', 'DK', 'SA'])\n",
      "\"p2\" declared \"raise:2\"\n",
      "\"p1\" declared \"call:2\"\n",
      "Street \"river\" started. (community card = ['H6', 'C6', 'DK', 'SA', 'H7'])\n",
      "\"p2\" declared \"raise:2\"\n",
      "\"p1\" declared \"call:2\"\n",
      "\"['p2']\" won the round 5 (stack = {'p1': 73, 'p2': 127})\n"
     ]
    }
   ],
   "source": [
    "game_result = start_poker(config, verbose = 1)"
   ]
  },
  {
   "cell_type": "code",
   "execution_count": 49,
   "metadata": {},
   "outputs": [
    {
     "name": "stdout",
     "output_type": "stream",
     "text": [
      "{'rule': {'initial_stack': 100, 'max_round': 5, 'small_blind_amount': 1, 'ante': 0, 'blind_structure': {}}, 'players': [{'name': 'p1', 'uuid': 'jtnlhobbhsbwlsjcsjgviv', 'stack': 91, 'state': 'participating'}, {'name': 'p2', 'uuid': 'ibvorjhduvapsccqsadibw', 'stack': 109, 'state': 'participating'}]}\n"
     ]
    }
   ],
   "source": [
    "print(game_result)"
   ]
  },
  {
   "cell_type": "code",
   "execution_count": 72,
   "metadata": {},
   "outputs": [
    {
     "ename": "NameError",
     "evalue": "name 'state' is not defined",
     "output_type": "error",
     "traceback": [
      "\u001b[1;31m---------------------------------------------------------------------------\u001b[0m",
      "\u001b[1;31mNameError\u001b[0m                                 Traceback (most recent call last)",
      "\u001b[1;32m<ipython-input-72-1ca2bec0a46d>\u001b[0m in \u001b[0;36m<module>\u001b[1;34m()\u001b[0m\n\u001b[1;32m----> 1\u001b[1;33m \u001b[0mstate\u001b[0m\u001b[1;33m[\u001b[0m\u001b[1;34m\"street\"\u001b[0m\u001b[1;33m]\u001b[0m\u001b[1;33m\u001b[0m\u001b[0m\n\u001b[0m",
      "\u001b[1;31mNameError\u001b[0m: name 'state' is not defined"
     ]
    }
   ],
   "source": [
    "state[\"street\"]"
   ]
  }
 ],
 "metadata": {
  "kernelspec": {
   "display_name": "Python 3",
   "language": "python",
   "name": "python3"
  },
  "language_info": {
   "codemirror_mode": {
    "name": "ipython",
    "version": 3
   },
   "file_extension": ".py",
   "mimetype": "text/x-python",
   "name": "python",
   "nbconvert_exporter": "python",
   "pygments_lexer": "ipython3",
   "version": "3.6.4"
  }
 },
 "nbformat": 4,
 "nbformat_minor": 2
}
