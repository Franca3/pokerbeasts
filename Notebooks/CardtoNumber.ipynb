{
 "cells": [
  {
   "cell_type": "code",
   "execution_count": 12,
   "metadata": {},
   "outputs": [],
   "source": [
    "'C4'\n",
    "\n",
    "def CardtoNumber(card):\n",
    "    \"\"\"\n",
    "    Function that takes in a card of the format 'SuitTier' (eg. 'C4') and converts into a tuple of numbers\n",
    "    \"\"\"\n",
    "    suit_map = {'O':0, 'S':1, 'H':2, 'D':3, 'C':4}\n",
    "    rank_map = {\n",
    "      'O'  :  0,\n",
    "      '2'  :  1,\n",
    "      '3'  :  2,\n",
    "      '4'  :  3,\n",
    "      '5'  :  4,\n",
    "      '6'  :  5,\n",
    "      '7'  :  6,\n",
    "      '8'  :  7,\n",
    "      '9'  :  8,\n",
    "      'T'  :  9,\n",
    "      'J'  :  10,\n",
    "      'Q'  :  11,\n",
    "      'K'  :  12,\n",
    "      'A'  :  13\n",
    "    }\n",
    "    return (suit_map[card[0]],rank_map[card[1]])"
   ]
  },
  {
   "cell_type": "code",
   "execution_count": 27,
   "metadata": {},
   "outputs": [
    {
     "data": {
      "text/plain": [
       "[(2, 7), (3, 13), (4, 3), (4, 5), (4, 13), (2, 12), (0, 0)]"
      ]
     },
     "execution_count": 27,
     "metadata": {},
     "output_type": "execute_result"
    }
   ],
   "source": [
    "cards = ['OO']*7\n",
    "hole = ['H8','DA']\n",
    "community = ['C4', 'C6', 'CA','HK']\n",
    "\n",
    "for i in range(2):\n",
    "    cards[i] = hole[i]\n",
    "\n",
    "for i in range(2,len(community)+2):\n",
    "    cards[i] = community[i-2]\n",
    "cards = list(map(CardtoNumber, cards))\n",
    "cards"
   ]
  }
 ],
 "metadata": {
  "kernelspec": {
   "display_name": "Python 3",
   "language": "python",
   "name": "python3"
  },
  "language_info": {
   "codemirror_mode": {
    "name": "ipython",
    "version": 3
   },
   "file_extension": ".py",
   "mimetype": "text/x-python",
   "name": "python",
   "nbconvert_exporter": "python",
   "pygments_lexer": "ipython3",
   "version": "3.6.4"
  }
 },
 "nbformat": 4,
 "nbformat_minor": 2
}
